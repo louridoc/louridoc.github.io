{
 "cells": [
  {
   "cell_type": "code",
   "execution_count": 21,
   "id": "da95cbca",
   "metadata": {},
   "outputs": [],
   "source": [
    "import cv2"
   ]
  },
  {
   "cell_type": "code",
   "execution_count": 20,
   "id": "29106654",
   "metadata": {},
   "outputs": [
    {
     "name": "stdout",
     "output_type": "stream",
     "text": [
      "ar-force.jpg\n"
     ]
    }
   ],
   "source": [
    "file = 'ar-force' \n",
    "ext = '.jpg'\n",
    "path = file + ext\n",
    "print(path)"
   ]
  },
  {
   "cell_type": "code",
   "execution_count": 22,
   "id": "6288c5d9",
   "metadata": {},
   "outputs": [
    {
     "data": {
      "text/plain": [
       "True"
      ]
     },
     "execution_count": 22,
     "metadata": {},
     "output_type": "execute_result"
    }
   ],
   "source": [
    "img = cv2.imread(path, cv2.IMREAD_COLOR)\n",
    "\n",
    "# Compute new dimensions\n",
    "orig_height, orig_width = img.shape[:2]\n",
    "new_width = int(300)\n",
    "new_height = int(200)\n",
    "\n",
    "resized_name = file + '_resized.png'\n",
    "resized = cv2.resize(img, (new_width, new_height), interpolation=cv2.INTER_LINEAR)\n",
    "cv2.imwrite(resized_name, resized)\n"
   ]
  },
  {
   "cell_type": "code",
   "execution_count": null,
   "id": "25a0028b",
   "metadata": {},
   "outputs": [],
   "source": []
  }
 ],
 "metadata": {
  "kernelspec": {
   "display_name": "opencv-env",
   "language": "python",
   "name": "python3"
  },
  "language_info": {
   "codemirror_mode": {
    "name": "ipython",
    "version": 3
   },
   "file_extension": ".py",
   "mimetype": "text/x-python",
   "name": "python",
   "nbconvert_exporter": "python",
   "pygments_lexer": "ipython3",
   "version": "3.11.13"
  }
 },
 "nbformat": 4,
 "nbformat_minor": 5
}
